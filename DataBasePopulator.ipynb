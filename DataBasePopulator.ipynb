{
 "cells": [
  {
   "cell_type": "code",
   "execution_count": 2,
   "id": "6a3db5a2-5855-4cb2-84a6-2aed17047639",
   "metadata": {},
   "outputs": [],
   "source": [
    "import mysql.connector\n",
    "import pandas as pd\n",
    "\n",
    "import matplotlib.pyplot as plt\n",
    "import seaborn as sns\n",
    "import csv"
   ]
  },
  {
   "cell_type": "code",
   "execution_count": 3,
   "id": "4c8139bc-37f5-43a9-8998-83a3177d19bc",
   "metadata": {},
   "outputs": [],
   "source": [
    "db_connection = mysql.connector.connect(\n",
    "  host=\"localhost\",\n",
    "  user=\"root\",\n",
    "  passwd=\"Keremiis123!\", \n",
    "  auth_plugin=\"mysql_native_password\"\n",
    ")"
   ]
  },
  {
   "cell_type": "code",
   "execution_count": 4,
   "id": "ff391c59-17e8-48c4-8d60-6b4728fc2ec2",
   "metadata": {},
   "outputs": [
    {
     "name": "stdout",
     "output_type": "stream",
     "text": [
      "<mysql.connector.connection_cext.CMySQLConnection object at 0x00000263D01A24F0>\n"
     ]
    }
   ],
   "source": [
    "print(db_connection)"
   ]
  },
  {
   "cell_type": "code",
   "execution_count": 5,
   "id": "9d164748-1f76-4f93-9927-a7030ba952cb",
   "metadata": {},
   "outputs": [],
   "source": [
    "db_cursor = db_connection.cursor(buffered=True)\n",
    "\n",
    "db_cursor.execute(\"SHOW DATABASES\")\n",
    "\n",
    "db_cursor.execute(\"USE comp306Project\")"
   ]
  },
  {
   "cell_type": "code",
   "execution_count": 6,
   "id": "be601f9d-dcca-45a1-a003-3b07aac1965f",
   "metadata": {},
   "outputs": [],
   "source": [
    "def populate_table(db_connection, db_cursor, insert_query, file_path):\n",
    "    \n",
    "    with open(file_path, mode='r') as csv_data:\n",
    "        reader = csv.reader(csv_data, delimiter=';')\n",
    "        csv_data_list = list(reader)\n",
    "        for row in csv_data_list[1:]:\n",
    "            row = tuple(map(lambda x: None if x == \"\" else x, row[0].split(',')))\n",
    "            db_cursor.execute(insert_query, row)\n",
    "        \n",
    "    db_connection.commit()"
   ]
  },
  {
   "cell_type": "code",
   "execution_count": 9,
   "id": "89cc026d-36ee-49b9-8788-4d6003a3b615",
   "metadata": {},
   "outputs": [],
   "source": [
    "insert_appointments = (\n",
    "    \"INSERT INTO APPOINTMENT(AppointmentId, Duration, Date, Floor, RoomNumber) \"\n",
    "    \"VALUES (%s, %s, %s, %s, %s)\"\n",
    ")\n",
    "\n",
    "populate_table(db_connection, db_cursor, insert_appointments, \"data/appointments.csv\")"
   ]
  },
  {
   "cell_type": "code",
   "execution_count": 13,
   "id": "bff2aed0-7cc9-4862-9441-87590a16ef00",
   "metadata": {},
   "outputs": [],
   "source": [
    "insert_employee = (\n",
    "    \"INSERT INTO EMPLOYEE(EmployeeId, EmployeeSSN, Name, Sex, BirthDate, Salary, HireDate, City, Street, State) \"\n",
    "    \"VALUES (%s, %s, %s, %s, %s, %s, %s, %s, %s, %s)\"\n",
    ")\n",
    "\n",
    "populate_table(db_connection, db_cursor, insert_employee, \"data/employee.csv\")"
   ]
  },
  {
   "cell_type": "code",
   "execution_count": 14,
   "id": "7e82ce2f-82a9-440b-aa80-8858ed867268",
   "metadata": {},
   "outputs": [],
   "source": [
    "insert_nurse = (\n",
    "    \"INSERT INTO NURSE(EmployeeId) \"\n",
    "    \"VALUES (%s)\"\n",
    ")\n",
    "\n",
    "populate_table(db_connection, db_cursor, insert_nurse, \"data/nurse.csv\")"
   ]
  },
  {
   "cell_type": "code",
   "execution_count": 15,
   "id": "4ead6099-4b47-4376-8741-4affdfd26fef",
   "metadata": {},
   "outputs": [],
   "source": [
    "insert_doctor = (\n",
    "    \"INSERT INTO DOCTOR(EmployeeId, Title, Expertise, Bonus) \"\n",
    "    \"VALUES (%s, %s, %s, %s)\"\n",
    ")\n",
    "\n",
    "populate_table(db_connection, db_cursor, insert_doctor, \"data/doctor.csv\")"
   ]
  },
  {
   "cell_type": "code",
   "execution_count": 17,
   "id": "2fb1c80a-9035-4c8a-9336-bab1f918b2bd",
   "metadata": {},
   "outputs": [],
   "source": [
    "insert_patient = (\n",
    "    \"INSERT INTO PATIENT(PatientSSN, PhoneNumber, Name, BirthDate, BloodType, City, Street, State, Sex) \"\n",
    "    \"VALUES (%s, %s, %s, %s, %s, %s, %s, %s, %s)\"\n",
    ")\n",
    "\n",
    "populate_table(db_connection, db_cursor, insert_patient, \"data/patient.csv\")"
   ]
  },
  {
   "cell_type": "code",
   "execution_count": null,
   "id": "d748a59c-d211-400a-830e-4f850448b3e7",
   "metadata": {},
   "outputs": [],
   "source": [
    "PrescriptionId, Diagnosis"
   ]
  },
  {
   "cell_type": "code",
   "execution_count": 19,
   "id": "8f97a6a7-bfe4-444f-9fdb-407c93832dd8",
   "metadata": {},
   "outputs": [],
   "source": [
    "insert_prescription = (\n",
    "    \"INSERT INTO PRESCRIPTION(PrescriptionId, Diagnosis) \"\n",
    "    \"VALUES (%s, %s)\"\n",
    ")\n",
    "\n",
    "populate_table(db_connection, db_cursor, insert_prescription, \"data/prescription.csv\")"
   ]
  },
  {
   "cell_type": "code",
   "execution_count": 22,
   "id": "14225ce9-2abe-4b35-8aac-cc6ea274f570",
   "metadata": {},
   "outputs": [],
   "source": [
    "insert_companion = (\n",
    "    \"INSERT INTO COMPANION(Relationship, CompanionSSN, PatientSSN, PhoneNumber, Name, since, until) \"\n",
    "    \"VALUES (%s, %s, %s, %s, %s, %s, %s)\"\n",
    ")\n",
    "\n",
    "populate_table(db_connection, db_cursor, insert_companion, \"data/companion.csv\")"
   ]
  },
  {
   "cell_type": "code",
   "execution_count": 24,
   "id": "d871f52f-3f06-4535-abd2-c97cbb96959a",
   "metadata": {},
   "outputs": [],
   "source": [
    "insert_nurse_reference = (\n",
    "    \"INSERT INTO NURSE_REFERENCES(RefereeNurseId, RefererNurseId, Rating) \"\n",
    "    \"VALUES (%s, %s, %s)\"\n",
    ")\n",
    "\n",
    "populate_table(db_connection, db_cursor, insert_nurse_reference, \"data/nurse_references.csv\")"
   ]
  },
  {
   "cell_type": "code",
   "execution_count": 30,
   "id": "e3841356-5498-482c-92c9-1c1669208342",
   "metadata": {},
   "outputs": [],
   "source": [
    "insert_prescription_medicine = (\n",
    "    \"INSERT INTO prescription_medicine(PrescriptionId, Medicine) \"\n",
    "    \"VALUES (%s, %s)\"\n",
    ")\n",
    "\n",
    "populate_table(db_connection, db_cursor, insert_prescription_medicine, \"data/prescription_medicine.csv\")"
   ]
  },
  {
   "cell_type": "code",
   "execution_count": 32,
   "id": "18858072-0f39-46a3-b41f-eace79235634",
   "metadata": {},
   "outputs": [],
   "source": [
    "insert_nurse_certificates = (\n",
    "    \"INSERT INTO nurse_certificates(EmployeeId, Certificate) \"\n",
    "    \"VALUES (%s, %s)\"\n",
    ")\n",
    "\n",
    "populate_table(db_connection, db_cursor, insert_nurse_certificates, \"data/nurse_certificates.csv\")"
   ]
  },
  {
   "cell_type": "code",
   "execution_count": 8,
   "id": "9e350d3c-650e-463c-922b-ba65bbf83c3e",
   "metadata": {},
   "outputs": [],
   "source": [
    "insert_participates = (\n",
    "    \"INSERT INTO participates(PatientSSN, AppointmentId, EmployeeId) \"\n",
    "    \"VALUES (%s, %s, %s)\"\n",
    ")\n",
    "\n",
    "populate_table(db_connection, db_cursor, insert_participates, \"data/participates.csv\")"
   ]
  },
  {
   "cell_type": "code",
   "execution_count": 9,
   "id": "80e66ad5-fb4f-41cf-82ed-64163869261d",
   "metadata": {},
   "outputs": [],
   "source": [
    "insert_writes = (\n",
    "    \"INSERT INTO writes(PatientSSN, PrescriptionId, DoctorId, WritingDate) \"\n",
    "    \"VALUES (%s, %s, %s, %s)\"\n",
    ")\n",
    "\n",
    "populate_table(db_connection, db_cursor, insert_writes, \"data/writes.csv\")"
   ]
  },
  {
   "cell_type": "code",
   "execution_count": null,
   "id": "927ef5a9-1c11-46a3-b6d1-bfeb74bbbed2",
   "metadata": {},
   "outputs": [],
   "source": []
  }
 ],
 "metadata": {
  "kernelspec": {
   "display_name": "Python 3 (ipykernel)",
   "language": "python",
   "name": "python3"
  },
  "language_info": {
   "codemirror_mode": {
    "name": "ipython",
    "version": 3
   },
   "file_extension": ".py",
   "mimetype": "text/x-python",
   "name": "python",
   "nbconvert_exporter": "python",
   "pygments_lexer": "ipython3",
   "version": "3.9.5"
  }
 },
 "nbformat": 4,
 "nbformat_minor": 5
}
