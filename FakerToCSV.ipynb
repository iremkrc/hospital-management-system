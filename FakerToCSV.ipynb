{
 "cells": [
  {
   "cell_type": "code",
   "execution_count": 1,
   "id": "def518b9-cb30-49ba-b514-751281c7cacb",
   "metadata": {},
   "outputs": [],
   "source": [
    "from faker import Faker\n",
    "import random\n",
    "import datetime\n",
    "import csv\n",
    "import itertools"
   ]
  },
  {
   "cell_type": "code",
   "execution_count": 2,
   "id": "9ceb8bf1-bca5-4bfc-ad70-49a7fba9fc2c",
   "metadata": {},
   "outputs": [],
   "source": [
    "fake = Faker()"
   ]
  },
  {
   "cell_type": "code",
   "execution_count": 79,
   "id": "78514c54-c8a6-474f-9545-96eea0b9b61e",
   "metadata": {},
   "outputs": [],
   "source": [
    "num_records = 5000\n",
    "\n",
    "csv_file_name = 'data/appointments.csv'"
   ]
  },
  {
   "cell_type": "code",
   "execution_count": 80,
   "id": "e2aad698-6739-4c99-a92c-5bddfa53483c",
   "metadata": {},
   "outputs": [],
   "source": [
    "with open(csv_file_name, mode='w', newline='') as file:\n",
    "    writer = csv.writer(file)\n",
    "    writer.writerow([\"AppointmentId\", \"Duration\", \"Date\", \"Floor\", \"RoomNumber\"])\n",
    "    \n",
    "    for _ in range(num_records):\n",
    "        appointmentID = str(random.randint(10**7, 10**8))\n",
    "        duration = str(random.randint(15, 30))\n",
    "        date = str(fake.date_time_between(start_date=datetime.date(2023, 7, 11)))\n",
    "        floor = str(random.randint(-2, 3))\n",
    "        room_number = str(random.randint(100, 200))\n",
    "        writer.writerow([appointmentID, duration, date, floor, room_number])"
   ]
  },
  {
   "cell_type": "code",
   "execution_count": 112,
   "id": "29f02bcb-b867-4e3a-9da5-257b2b0f86c2",
   "metadata": {},
   "outputs": [],
   "source": [
    "num_records = 1500\n",
    "\n",
    "csv_file_name = 'data/employee.csv'"
   ]
  },
  {
   "cell_type": "code",
   "execution_count": 113,
   "id": "bb1c5577-e491-4143-9855-e9cd8275ba6e",
   "metadata": {},
   "outputs": [],
   "source": [
    "with open(csv_file_name, mode='w', newline='') as file:\n",
    "    writer = csv.writer(file)\n",
    "    writer.writerow([\"EmployeeId\", \"EmployeeSSN\", \"Name\", \"Sex\", \"BirthDate\", \"Salary\", \"HireDate\", \"City\", \"Street\", \"State\"])\n",
    "\n",
    "    EmployeeIds=list()\n",
    "    for _ in range(num_records):\n",
    "        EmployeeId = str(random.randint(10**4, 10**6))\n",
    "        EmployeeSSN = str(fake.ssn().replace(\"-\",\"\"))\n",
    "        Sex = random.choice([\"M\",\"F\"])\n",
    "        if random.choice([\"M\",\"F\"]) == \"M\":\n",
    "            Name = fake.name_male()\n",
    "        else:\n",
    "            Name = fake.name_female()\n",
    "        BirthDate = str(fake.date_between(start_date=datetime.date(1950,1,1)))\n",
    "        Salary = str(round(random.uniform(10**3,10**4),2))\n",
    "        HireDate = str(fake.date_between(start_date=datetime.date(2000,1,1)))\n",
    "        City = fake.city()\n",
    "        Street = fake.street_name()\n",
    "        State = fake.state()\n",
    "        if EmployeeSSN not in EmployeeSSNs:\n",
    "            writer.writerow([EmployeeId, EmployeeSSN, Name, Sex, BirthDate, Salary, HireDate, City, Street, State])\n",
    "            EmployeeIds.append(EmployeeId)"
   ]
  },
  {
   "cell_type": "code",
   "execution_count": 115,
   "id": "509f78ed-6a34-4016-af4d-94753ebd50c8",
   "metadata": {},
   "outputs": [],
   "source": [
    "EmployeeIds = list()\n",
    "\n",
    "with open('data/employee.csv', mode='r') as file:\n",
    "    reader = csv.DictReader(file)\n",
    "    \n",
    "    for row in reader:\n",
    "        EmployeeIds.append(row[\"EmployeeId\"])"
   ]
  },
  {
   "cell_type": "code",
   "execution_count": 117,
   "id": "2f8f7a53-184f-4723-8156-c553395bd117",
   "metadata": {},
   "outputs": [],
   "source": [
    "nurseIds = random.sample(EmployeeIds, 444)"
   ]
  },
  {
   "cell_type": "code",
   "execution_count": 120,
   "id": "ca979fce-da03-4ea4-a4ee-d94eefde6d64",
   "metadata": {},
   "outputs": [],
   "source": [
    "csv_file_name = 'data/nurse.csv'"
   ]
  },
  {
   "cell_type": "code",
   "execution_count": 121,
   "id": "c03ada5d-b707-4f9f-9054-81f52df08f33",
   "metadata": {},
   "outputs": [],
   "source": [
    "with open(csv_file_name, mode='w', newline='') as file:\n",
    "    writer = csv.writer(file)\n",
    "    writer.writerow([\"EmployeeId\"])\n",
    "\n",
    "    for id in nurseIds:\n",
    "        EmployeeId = id\n",
    "        writer.writerow([EmployeeId])"
   ]
  },
  {
   "cell_type": "code",
   "execution_count": 122,
   "id": "e7a4b0d8-2c28-4d6a-a6e4-48cd9828204c",
   "metadata": {},
   "outputs": [],
   "source": [
    "doctorIds = random.sample(EmployeeIds, 999)"
   ]
  },
  {
   "cell_type": "code",
   "execution_count": 123,
   "id": "42a5364d-ce41-44b1-b9ee-59ea1fad87e3",
   "metadata": {},
   "outputs": [],
   "source": [
    "csv_file_name = 'data/doctor.csv'"
   ]
  },
  {
   "cell_type": "code",
   "execution_count": 125,
   "id": "0f9e35e8-f35c-4763-9bcc-11d589810e4e",
   "metadata": {},
   "outputs": [],
   "source": [
    "with open(csv_file_name, mode='w', newline='') as file:\n",
    "    writer = csv.writer(file)\n",
    "    writer.writerow([\"EmployeeId\", \"Title\", \"Expertise\", \"Bonus\"])\n",
    "    \n",
    "    for i in range(len(doctorIds)):\n",
    "        EmployeeId = str(doctorIds[i])\n",
    "        Title = random.choice([\"ACF\", \"CL\", \"CRF\", \"FY1\", \"Prof\", \"GP\", \"SAS\"])\n",
    "        Expertise = random.choice([\"Allergists\", \"Anesthesiologists\", \"Cardiologists\", \"Dermatologists\", \"Endocrinologists\", \"Gastroenterologists\", \"Hematologists\", \"Nephrologists\", \"Neurologists\", \"Oncologists\", \"Ophthalmologists\", \"Osteopaths\", \"Pediatricians\", \"Podiatrists\"])\n",
    "        Bonus = str(random.randint(10**3, 10**4))\n",
    "        writer.writerow([EmployeeId, Title, Expertise, Bonus])"
   ]
  },
  {
   "cell_type": "code",
   "execution_count": 159,
   "id": "e4b92558-c7cc-44fb-b626-839436ebe7a4",
   "metadata": {},
   "outputs": [],
   "source": [
    "num_records = 7500\n",
    "\n",
    "csv_file_name = 'data/patient.csv'"
   ]
  },
  {
   "cell_type": "code",
   "execution_count": 162,
   "id": "87e196fa-95df-482f-b1bf-67d35c389815",
   "metadata": {},
   "outputs": [],
   "source": [
    "def random_phone_number():\n",
    "    phone_number=\"\"\n",
    "    for i in range(10):\n",
    "        phone_number+=str(random.randint(0,9))\n",
    "    return \"+1 (\"+phone_number+\")\""
   ]
  },
  {
   "cell_type": "code",
   "execution_count": 163,
   "id": "18c50b3b-6a28-488b-abcd-2468bfcdb414",
   "metadata": {},
   "outputs": [],
   "source": [
    "with open(csv_file_name, mode='w', newline='') as file:\n",
    "    writer = csv.writer(file)\n",
    "    writer.writerow([\"PatientSSN\", \"PhoneNumber\", \"Name\", \"BirthDate\", \"BloodType\", \"City\", \"Street\", \"State\", \"Sex\"])\n",
    "\n",
    "    PatientSSNs = list()\n",
    "    for _ in range(num_records):\n",
    "        PatientSSN = str(fake.ssn().replace(\"-\",\"\"))\n",
    "        PhoneNumber = random_phone_number()\n",
    "        Sex = random.choice([\"M\",\"F\"])\n",
    "        if random.choice([\"M\",\"F\"]) == \"M\":\n",
    "            Name = fake.name_male()\n",
    "        else:\n",
    "            Name = fake.name_female()\n",
    "        BirthDate = str(fake.date_between(start_date=datetime.date(1950,1,1)))\n",
    "        BloodType = random.choice([\"O+\", \"O-\", \"A+\", \"A-\", \"B+\", \"B-\", \"AB+\", \"AB-\"])\n",
    "        City = fake.city()\n",
    "        Street = fake.street_name()\n",
    "        State = fake.state()\n",
    "        if PatientSSN not in PatientSSNs:\n",
    "            writer.writerow([PatientSSN, PhoneNumber, Name, BirthDate, BloodType, City, Street, State, Sex])\n",
    "            PatientSSNs.append(PatientSSN)"
   ]
  },
  {
   "cell_type": "code",
   "execution_count": 164,
   "id": "c3fbe620-ad1a-40c1-ab75-64c05b3d8d65",
   "metadata": {},
   "outputs": [],
   "source": [
    "num_records = 2500\n",
    "csv_file_name = 'data/prescription.csv'"
   ]
  },
  {
   "cell_type": "code",
   "execution_count": null,
   "id": "7db02da7-99de-43db-9ab1-b0146fae8713",
   "metadata": {},
   "outputs": [],
   "source": [
    "PrescriptionId, Diagnosis"
   ]
  },
  {
   "cell_type": "code",
   "execution_count": 168,
   "id": "4dd67dd5-95e4-4dc9-b6e7-89d42b98f4c0",
   "metadata": {},
   "outputs": [],
   "source": [
    "with open(csv_file_name, mode='w', newline='') as file:\n",
    "    writer = csv.writer(file)\n",
    "    writer.writerow([\"PrescriptionId\", \"Diagnosis\"])\n",
    "\n",
    "    PrescriptionIds = list()\n",
    "    for _ in range(num_records):\n",
    "        PrescriptionId = random.randint(10**5, 10**7)\n",
    "        Diagnosis = random.choice(['Asthma',\n",
    " 'Arthritis',\n",
    " 'Tuberculosis',\n",
    " 'Malaria',\n",
    " 'Osteoporosis',\n",
    " 'Dengue',\n",
    " 'Cancer',\n",
    " 'Anemia',\n",
    " 'Pneumonia',\n",
    " 'Osteoporosis',\n",
    " 'Allergies',\n",
    " 'Chickenpox',\n",
    " 'Migraine',\n",
    " 'Dengue',\n",
    " 'Osteoporosis',\n",
    " 'Migraine',\n",
    " 'Osteoporosis',\n",
    " 'Asthma',\n",
    " 'Tuberculosis',\n",
    " 'Bronchitis',\n",
    " 'Anemia',\n",
    " 'Anemia',\n",
    " 'Arthritis',\n",
    " 'Migraine',\n",
    " 'Asthma',\n",
    " 'Common Cold',\n",
    " 'Osteoporosis',\n",
    " 'Flu',\n",
    " 'Cancer',\n",
    " 'Common Cold',\n",
    " 'Hypertension',\n",
    " 'Osteoporosis',\n",
    " 'Hepatitis',\n",
    " 'Common Cold',\n",
    " 'Osteoporosis',\n",
    " 'Arthritis',\n",
    " 'Cancer',\n",
    " 'Pneumonia',\n",
    " 'Allergies',\n",
    " 'Chickenpox',\n",
    " 'Diabetes',\n",
    " 'Tuberculosis',\n",
    " 'Gastroenteritis',\n",
    " 'Pneumonia',\n",
    " 'Pneumonia',\n",
    " 'Anemia',\n",
    " 'Allergies',\n",
    " 'Common Cold',\n",
    " 'Anemia',\n",
    "                          ])\n",
    "        if PrescriptionId not in PrescriptionIds:\n",
    "            writer.writerow([PrescriptionId, Diagnosis])\n",
    "            PrescriptionIds.append(PrescriptionId)"
   ]
  },
  {
   "cell_type": "code",
   "execution_count": 225,
   "id": "201d9e08-b8a1-4137-893b-4451a2f56556",
   "metadata": {},
   "outputs": [],
   "source": [
    "patientsWithCompanion = list()\n",
    "\n",
    "with open('data/patient.csv', mode='r') as file:\n",
    "    reader = csv.DictReader(file)\n",
    "    for row in reader:\n",
    "        patientsWithCompanion.append(row[\"PatientSSN\"])\n",
    "\n",
    "patientsWithCompanion = random.sample(patientsWithCompanion, int(0.2*len(patientsWithCompanion)))"
   ]
  },
  {
   "cell_type": "code",
   "execution_count": 226,
   "id": "8ea6e03e-ed87-4555-b6c8-19f69ff78abb",
   "metadata": {},
   "outputs": [],
   "source": [
    "csv_file_name = 'data/companion.csv'"
   ]
  },
  {
   "cell_type": "code",
   "execution_count": 227,
   "id": "4c29326c-f2a2-49e5-a12d-66cb18cf4ebc",
   "metadata": {},
   "outputs": [],
   "source": [
    "with open(csv_file_name, mode='w', newline='') as file:\n",
    "    writer = csv.writer(file)\n",
    "    writer.writerow([\"Relationship\", \"CompanionSSN\", \"PatientSSN\", \"PhoneNumber\", \"Name\", \"since\", \"until\"])\n",
    "\n",
    "    pKey = list()\n",
    "\n",
    "    for i in range(len(patientsWithCompanion)):\n",
    "        Relationship = random.choice( [\n",
    "            \"Spouse\", \"Parent\", \"Child\", \"Sibling\",\n",
    "            \"Grandparent\", \"Grandchild\", \"Aunt\", \"Uncle\",\n",
    "            \"Niece\", \"Nephew\", \"Cousin\", \"Step-Parent\",\n",
    "            \"Step-Child\", \"Close Friend\", \"Neighbor\"\n",
    "        ])\n",
    "        CompanionSSN = str(fake.ssn().replace(\"-\",\"\"))\n",
    "        PatientSSN = patientsWithCompanion[i]\n",
    "        PhoneNumber = random_phone_number()\n",
    "        Name = fake.name()\n",
    "        since = fake.date_between(start_date=datetime.date(2000, 1, 1), end_date=datetime.date(2023,12,31))\n",
    "        until = since + datetime.timedelta(days=random.randint(1,30))\n",
    "        if (CompanionSSN, PatientSSN) not in pKey:\n",
    "            writer.writerow([Relationship, CompanionSSN, PatientSSN, PhoneNumber, Name, since, until])\n",
    "            pKey.append((CompanionSSN, PatientSSN))"
   ]
  },
  {
   "cell_type": "code",
   "execution_count": 198,
   "id": "b29e99d7-8d98-4275-a4f0-8c86cbfe7c47",
   "metadata": {},
   "outputs": [],
   "source": [
    "nurseIDs = list()\n",
    "\n",
    "with open('data/nurse.csv', mode='r') as file:\n",
    "    reader = csv.DictReader(file)\n",
    "    for row in reader:\n",
    "        nurseIDs.append(row[\"EmployeeId\"])"
   ]
  },
  {
   "cell_type": "code",
   "execution_count": 230,
   "id": "8ac3340a-0cfb-43c2-99bc-b8909fa024e0",
   "metadata": {},
   "outputs": [],
   "source": [
    "cartesian_product = list(itertools.product(nurseIDs, repeat=2))\n",
    "random_selection = random.sample(cartesian_product, 10000)"
   ]
  },
  {
   "cell_type": "code",
   "execution_count": 231,
   "id": "a0ca864a-495e-401c-abc3-e2df97a75d23",
   "metadata": {},
   "outputs": [],
   "source": [
    "csv_file_name = 'data/nurse_references.csv'"
   ]
  },
  {
   "cell_type": "code",
   "execution_count": 236,
   "id": "b2950670-aa36-4906-9c58-c9dca808fafb",
   "metadata": {},
   "outputs": [],
   "source": [
    "with open(csv_file_name, mode='w', newline='') as file:\n",
    "    writer = csv.writer(file)\n",
    "    writer.writerow([\"RefereeNurseId\", \"RefererNurseId\", \"Rating\"])\n",
    "    \n",
    "    for reference in random_selection:\n",
    "        RefereeNurseId = reference[0]\n",
    "        RefererNurseId = reference[1]\n",
    "        Rating = random.randint(3,10)\n",
    "\n",
    "        if RefereeNurseId!=RefererNurseId:\n",
    "            writer.writerow([RefereeNurseId, RefererNurseId, Rating])"
   ]
  },
  {
   "cell_type": "code",
   "execution_count": 256,
   "id": "ad869be1-dcd7-4573-8dcf-ff3a8dceb15c",
   "metadata": {},
   "outputs": [],
   "source": [
    "prescriptionIDs = list()\n",
    "\n",
    "with open('data/prescription.csv', mode='r') as file:\n",
    "    reader = csv.DictReader(file)\n",
    "    for row in reader:\n",
    "        prescriptionIDs.append(row[\"PrescriptionId\"])\n",
    "        \n",
    "prescriptionIDs = prescriptionIDs * 12\n",
    "randomPrescriptionIDs = random.sample(prescriptionIDs, int(0.1*len(prescriptionIDs)))"
   ]
  },
  {
   "cell_type": "code",
   "execution_count": 257,
   "id": "9ed51b2e-62f5-4a4d-a725-cbea0da79ada",
   "metadata": {},
   "outputs": [],
   "source": [
    "csv_file_name = 'data/prescription_medicine.csv'"
   ]
  },
  {
   "cell_type": "code",
   "execution_count": 258,
   "id": "a058e9da-63a7-40d1-80d9-0050ee34d972",
   "metadata": {},
   "outputs": [],
   "source": [
    "with open(csv_file_name, mode='w', newline='') as file:\n",
    "    writer = csv.writer(file)\n",
    "    writer.writerow([\"PrescriptionId\", \"Medicine\"])\n",
    "\n",
    "    pKeys = list()\n",
    "    \n",
    "    for id in randomPrescriptionIDs:\n",
    "        PrescriptionId = id\n",
    "        Medicine = random.choice([\n",
    "            \"Cardiovaxin\",\n",
    "            \"Neuroclarin\",\n",
    "            \"Pulmoplex\",\n",
    "            \"Dermacurel\",\n",
    "            \"Gastronol\",\n",
    "            \"Hematogenix\",\n",
    "            \"Renovance\",\n",
    "            \"Opthaclear\",\n",
    "            \"Endocrinex\",\n",
    "            \"Immunoblast\",\n",
    "            \"Analgesirex\",\n",
    "            \"Antivirodine\",\n",
    "            \"Myorelief\",\n",
    "            \"Neurapathal\",\n",
    "            \"Hepatoprotect\",\n",
    "            \"Angiorest\",\n",
    "            \"Osteoforte\",\n",
    "            \"Bronchomend\",\n",
    "            \"Psychowell\",\n",
    "            \"Lymphacure\"\n",
    "        ])\n",
    "        if (PrescriptionId, Medicine) not in pKeys:\n",
    "            writer.writerow([PrescriptionId, Medicine])\n",
    "            pKeys.append((PrescriptionId, Medicine))"
   ]
  },
  {
   "cell_type": "code",
   "execution_count": 259,
   "id": "379b12d6-bf6f-412f-bd9c-c57a4c359762",
   "metadata": {},
   "outputs": [],
   "source": [
    "nurseIDs = list()\n",
    "\n",
    "with open('data/nurse.csv', mode='r') as file:\n",
    "    reader = csv.DictReader(file)\n",
    "    for row in reader:\n",
    "        nurseIDs.append(row[\"EmployeeId\"])\n",
    "        \n",
    "nurseIDs = nurseIDs * 12\n",
    "randomnurseIDs = random.sample(nurseIDs, int(0.05*len(prescriptionIDs)))"
   ]
  },
  {
   "cell_type": "code",
   "execution_count": 262,
   "id": "5bf8aabb-f94f-4dbb-83c6-1e7de563ed36",
   "metadata": {},
   "outputs": [],
   "source": [
    "csv_file_name = 'data/nurse_certificates.csv'"
   ]
  },
  {
   "cell_type": "code",
   "execution_count": null,
   "id": "8d766155-8d73-4996-b318-914c23f94aa7",
   "metadata": {},
   "outputs": [],
   "source": [
    "EmployeeId, Certificate"
   ]
  },
  {
   "cell_type": "code",
   "execution_count": 264,
   "id": "d3c47e19-a1c9-4752-a157-f0acce9ada5a",
   "metadata": {},
   "outputs": [],
   "source": [
    "with open(csv_file_name, mode='w', newline='') as file:\n",
    "    writer = csv.writer(file)\n",
    "    writer.writerow([\"EmployeeId\", \"Certificate\"])\n",
    "\n",
    "    pKeys = list()\n",
    "    \n",
    "    for id in randomnurseIDs:\n",
    "        EmployeeId = id\n",
    "        Certificate = random.choice([\n",
    "            \"Basic Life Support (BLS)\",\n",
    "            \"Advanced Cardiovascular Life Support (ACLS)\",\n",
    "            \"Pediatric Advanced Life Support (PALS)\",\n",
    "            \"Certified Pediatric Nurse (CPN)\",\n",
    "            \"Oncology Certified Nurse (OCN)\",\n",
    "            \"Critical Care Registered Nurse (CCRN)\",\n",
    "            \"Family Nurse Practitioner (FNP-BC)\",\n",
    "            \"Certified Emergency Nurse (CEN)\",\n",
    "            \"Certified Nephrology Nurse (CNN)\",\n",
    "            \"Certified Nurse Operating Room (CNOR)\",\n",
    "            \"Psychiatric-Mental Health Nurse (PMHN)\",\n",
    "            \"Certified Registered Nurse Anesthetist (CRNA)\",\n",
    "            \"Certified Diabetes Educator (CDE)\",\n",
    "            \"Wound Care Certification (WCC)\",\n",
    "            \"Certified Nurse Midwife (CNM)\"\n",
    "        ])\n",
    "        \n",
    "        if (EmployeeId, Certificate) not in pKeys:\n",
    "            writer.writerow([EmployeeId, Certificate])\n",
    "            pKeys.append((EmployeeId, Certificate))"
   ]
  },
  {
   "cell_type": "code",
   "execution_count": null,
   "id": "81aa31f4-14b9-485f-9614-2a12cd5bd46d",
   "metadata": {},
   "outputs": [],
   "source": []
  },
  {
   "cell_type": "code",
   "execution_count": 218,
   "id": "22dfb7c3-4626-4af8-8a71-2b1a2d89f2ca",
   "metadata": {},
   "outputs": [],
   "source": [
    "patientSSN = list()\n",
    "\n",
    "with open('data/patient.csv', mode='r') as file:\n",
    "    reader = csv.DictReader(file)\n",
    "    for row in reader:\n",
    "        patientSSN.append(row[\"PatientSSN\"])\n",
    "        \n",
    "patientSSN = patientSSN * 24\n",
    "randomPatientSSN  = random.sample(patientSSN, int(0.1*len(patientSSN)))\n",
    "\n",
    "\n",
    "appointmentIDs = list()\n",
    "\n",
    "with open('data/appointments.csv', mode='r') as file:\n",
    "    reader = csv.DictReader(file)\n",
    "    for row in reader:\n",
    "        appointmentIDs.append(row[\"AppointmentId\"])\n",
    "        \n",
    "appointmentIDs = appointmentIDs * 120\n",
    "randomAppointmentIDs  = random.sample(appointmentIDs, int(0.1*len(appointmentIDs)))\n",
    "\n",
    "\n",
    "employeeIDs = list()\n",
    "\n",
    "with open('data/employee.csv', mode='r') as file:\n",
    "    reader = csv.DictReader(file)\n",
    "    for row in reader:\n",
    "        employeeIDs.append(row[\"EmployeeId\"])\n",
    "        \n",
    "employeeIDs = employeeIDs * 24\n",
    "randomEmployeeIDs  = random.sample(employeeIDs, int(0.2*len(employeeIDs)))"
   ]
  },
  {
   "cell_type": "code",
   "execution_count": 249,
   "id": "ba861cc5-af9c-495a-a391-eda6acbb03ac",
   "metadata": {},
   "outputs": [],
   "source": [
    "def generate_corrected_triples(patients, appointments, employees):\n",
    "    corrected_triples = []\n",
    "    used_appointments = list()\n",
    "    for patient in patients:\n",
    "\n",
    "        appointment = random.sample(appointments, random.randint(1,14))\n",
    "\n",
    "        for appt in appointment:\n",
    "            employee = random.sample(employees, random.randint(1,4))\n",
    "\n",
    "            if appt not in used_appointments:\n",
    "                for emp in employee:\n",
    "                    triple = (patient, appt, emp)\n",
    "    \n",
    "                    corrected_triples.append(triple)\n",
    "                    used_appointments.append(appt)\n",
    "    return corrected_triples"
   ]
  },
  {
   "cell_type": "code",
   "execution_count": 250,
   "id": "3fde3773-82a8-4eec-a0f1-cc90fa6d7e47",
   "metadata": {},
   "outputs": [],
   "source": [
    "triples = generate_corrected_triples(randomPatientSSN, randomAppointmentIDs, randomEmployeeIDs)"
   ]
  },
  {
   "cell_type": "code",
   "execution_count": 254,
   "id": "1eae7708-225c-47e9-a5b1-14755ef3efac",
   "metadata": {},
   "outputs": [],
   "source": [
    "sorted_triples = sorted(triples, key=lambda x: x[0])"
   ]
  },
  {
   "cell_type": "code",
   "execution_count": 255,
   "id": "dfa51477-42c5-418a-9551-a1b17e7a14df",
   "metadata": {},
   "outputs": [
    {
     "data": {
      "text/plain": [
       "12594"
      ]
     },
     "execution_count": 255,
     "metadata": {},
     "output_type": "execute_result"
    }
   ],
   "source": [
    "len(sorted_triples)"
   ]
  },
  {
   "cell_type": "code",
   "execution_count": 257,
   "id": "cfe3ab04-5777-4c12-bdea-4e0f4971d46c",
   "metadata": {},
   "outputs": [],
   "source": [
    "csv_file_name = 'data/participates.csv'"
   ]
  },
  {
   "cell_type": "code",
   "execution_count": 258,
   "id": "b4639d65-b840-47e7-bc81-f0a454c1743c",
   "metadata": {},
   "outputs": [],
   "source": [
    "with open(csv_file_name, mode='w', newline='') as file:\n",
    "    writer = csv.writer(file)\n",
    "    writer.writerow([\"PatientSSN\", \"AppointmentId\", \"EmployeeId\"])\n",
    "\n",
    "    pKeys = list()\n",
    "    \n",
    "    for participation in triples:\n",
    "        PatientSSN = participation[0]\n",
    "        AppointmentId = participation[1]\n",
    "        EmployeeId = participation[2]\n",
    "        \n",
    "        if (PatientSSN, AppointmentId, EmployeeId) not in pKeys:\n",
    "            writer.writerow([PatientSSN, AppointmentId, EmployeeId])\n",
    "            pKeys.append((PatientSSN, AppointmentId, EmployeeId))"
   ]
  },
  {
   "cell_type": "code",
   "execution_count": null,
   "id": "0d051eb4-2bb1-41bc-b82a-2bbe1bff5f2c",
   "metadata": {},
   "outputs": [],
   "source": []
  },
  {
   "cell_type": "code",
   "execution_count": 292,
   "id": "428525f9-f2f5-4421-bb78-381fcbb1635e",
   "metadata": {},
   "outputs": [],
   "source": [
    "patientSSN = list()\n",
    "\n",
    "with open('data/patient.csv', mode='r') as file:\n",
    "    reader = csv.DictReader(file)\n",
    "    for row in reader:\n",
    "        patientSSN.append(row[\"PatientSSN\"])\n",
    "        \n",
    "patientSSN = patientSSN * 12\n",
    "randomPatientSSNss  = random.sample(patientSSN, int(0.1*len(patientSSN)))\n",
    "\n",
    "\n",
    "prescriptionIDs = list()\n",
    "\n",
    "with open('data/prescription.csv', mode='r') as file:\n",
    "    reader = csv.DictReader(file)\n",
    "    for row in reader:\n",
    "        prescriptionIDs.append(row[\"PrescriptionId\"])\n",
    "        \n",
    "prescriptionIDs = prescriptionIDs * 12\n",
    "randomPrescriptionIDs  = random.sample(prescriptionIDs, int(0.1*len(prescriptionIDs)))\n",
    "\n",
    "\n",
    "doctorIDs = list()\n",
    "\n",
    "with open('data/doctor.csv', mode='r') as file:\n",
    "    reader = csv.DictReader(file)\n",
    "    for row in reader:\n",
    "        doctorIDs.append(row[\"EmployeeId\"])\n",
    "        \n",
    "doctorIDs = doctorIDs * 12\n",
    "randomDoctorIDs  = random.sample(doctorIDs, int(0.1*len(doctorIDs)))"
   ]
  },
  {
   "cell_type": "code",
   "execution_count": 329,
   "id": "67fe8cda-3a48-4ca5-8a8c-416e4dcfb66e",
   "metadata": {},
   "outputs": [],
   "source": [
    "def generate_unique_triples_(patientSSN, randomPrescriptionIDs, doctorIDs, num_triples=5000):\n",
    "    corrected_triples = []\n",
    "    used_prescriptionIds = list()\n",
    "    for patient in patientSSN:\n",
    "\n",
    "        prescription = random.sample(randomPrescriptionIDs, random.randint(1,7))\n",
    "\n",
    "        for presc in prescription:\n",
    "            doctorid = random.sample(doctorIDs, 1)\n",
    "\n",
    "            if presc not in used_prescriptionIds:\n",
    "                for doc in doctorid:\n",
    "                    triple = (patient, presc, doc)\n",
    "    \n",
    "                    corrected_triples.append(triple)\n",
    "                    used_prescriptionIds.append(presc)\n",
    "    return corrected_triples"
   ]
  },
  {
   "cell_type": "code",
   "execution_count": 330,
   "id": "1edefccf-6618-4e2f-9038-8af0fdf9dad9",
   "metadata": {},
   "outputs": [],
   "source": [
    "unique_triples = list(generate_unique_triples_(randomPatientSSNss, randomPrescriptionIDs, randomDoctorIDs, num_triples=5000))"
   ]
  },
  {
   "cell_type": "code",
   "execution_count": 343,
   "id": "2237bdea-1a6e-488d-acfe-3b6df07b6db7",
   "metadata": {},
   "outputs": [],
   "source": [
    "sorted_writes = sorted(unique_triples, key=lambda x: x[2])"
   ]
  },
  {
   "cell_type": "code",
   "execution_count": 344,
   "id": "9a85fd91-981a-40ee-b0c3-ac63f750b09d",
   "metadata": {},
   "outputs": [
    {
     "data": {
      "text/plain": [
       "1809"
      ]
     },
     "execution_count": 344,
     "metadata": {},
     "output_type": "execute_result"
    }
   ],
   "source": [
    "len(sorted_writes)"
   ]
  },
  {
   "cell_type": "code",
   "execution_count": 345,
   "id": "9ac74881-d935-43ac-9254-13cbf8c66907",
   "metadata": {},
   "outputs": [
    {
     "name": "stdout",
     "output_type": "stream",
     "text": [
      "('335159175', '5158169', '100099')\n",
      "('057265923', '3145662', '100099')\n",
      "('463216801', '3394548', '10477')\n",
      "('775251867', '7754403', '10477')\n",
      "('250414212', '7273112', '104850')\n",
      "('298978844', '4723176', '105383')\n",
      "('578663836', '9064197', '105383')\n",
      "('085473682', '9598658', '105383')\n",
      "('117516047', '3374021', '105383')\n",
      "('617665903', '522741', '106284')\n"
     ]
    }
   ],
   "source": [
    "for elem in sorted_writes[:10]:\n",
    "    print(elem)"
   ]
  },
  {
   "cell_type": "code",
   "execution_count": 347,
   "id": "e78a86d5-e029-4462-b5a0-92107b52b385",
   "metadata": {},
   "outputs": [],
   "source": [
    "csv_file_name = 'data/writes.csv'"
   ]
  },
  {
   "cell_type": "code",
   "execution_count": 348,
   "id": "e92f0f2b-e61f-462a-9638-346f2a8d05e5",
   "metadata": {},
   "outputs": [],
   "source": [
    "with open(csv_file_name, mode='w', newline='') as file:\n",
    "    writer = csv.writer(file)\n",
    "    writer.writerow([\"PatientSSN\", \"PrescriptionId\", \"DoctorId\", \"WritingDate\"])\n",
    "\n",
    "    pKeys = list()\n",
    "    \n",
    "    for write in sorted_writes:\n",
    "        PatientSSN = write[0]\n",
    "        PrescriptionId = write[1]\n",
    "        DoctorId = write[2]\n",
    "        WritingDate = str(fake.date_between(start_date=datetime.date(2000,1,1)))\n",
    "        \n",
    "        if (PatientSSN, PrescriptionId, DoctorId) not in pKeys:\n",
    "            writer.writerow([PatientSSN, PrescriptionId, DoctorId, WritingDate])\n",
    "            pKeys.append((PatientSSN, PrescriptionId, DoctorId))"
   ]
  },
  {
   "cell_type": "code",
   "execution_count": null,
   "id": "438ab290-37c5-4ef1-b95f-7a7de7da9612",
   "metadata": {},
   "outputs": [],
   "source": []
  }
 ],
 "metadata": {
  "kernelspec": {
   "display_name": "Python 3 (ipykernel)",
   "language": "python",
   "name": "python3"
  },
  "language_info": {
   "codemirror_mode": {
    "name": "ipython",
    "version": 3
   },
   "file_extension": ".py",
   "mimetype": "text/x-python",
   "name": "python",
   "nbconvert_exporter": "python",
   "pygments_lexer": "ipython3",
   "version": "3.9.5"
  }
 },
 "nbformat": 4,
 "nbformat_minor": 5
}
